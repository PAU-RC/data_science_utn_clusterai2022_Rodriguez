{
 "cells": [
  {
   "cell_type": "markdown",
   "id": "90170cb7",
   "metadata": {},
   "source": [
    "Grupo 0: Rodrigez Emilce y Rodriguez Paula"
   ]
  },
  {
   "cell_type": "markdown",
   "id": "0d034c06",
   "metadata": {},
   "source": [
    "MACHINE LEARNING"
   ]
  },
  {
   "cell_type": "markdown",
   "id": "4b1b633c",
   "metadata": {},
   "source": [
    "age------------------------Edad del cliente\n",
    "\n",
    "job------------------------Tipo de empleo del cliente\n",
    "\n",
    "martial status-------------Estado civil \n",
    "\n",
    "education------------------Educacion maxima alcanzada por el cliente\n",
    "\n",
    "Credit---------------------Si tiene deuda de crédito o no\n",
    "\n",
    "balance--------------------Promedio de saldo en la cuenta en el anio\n",
    "\n",
    "housing loan---------------Si tiene seguro de hogar o no\n",
    "\n",
    "Persona loan---------------Si tiene prestamos o no\n",
    "\n",
    "contact--------------------tipo con contacto del cliente\n",
    "\n",
    "Last Contact Day-----------Ultimo dia de contacto con el cliente en el mes\n",
    "\n",
    "Last Contact Month---------Ultimo mes de contacto con el cliente en el anio\n",
    "\n",
    "Last Contact Duration------Duracion del ultimo contacto con el cliente medido en segundos\n",
    "\n",
    "campaign-------------------Cantidad de contactos al cliente durante esta campania, incluye el último contacto.\n",
    "\n",
    "pdays----------------------Cantidad de dias que pasaron del último contacto con el cliente de una campania anterior.\n",
    "                            -1 significa que no hubo contacto previo\n",
    "                            \n",
    "previous-------------------Cantidad de contactos previos a esta campania para cada cliente\n",
    "\n",
    "poutcome-------------------Performance de la campania de marketing anterior para este cliente\n",
    "\n",
    "Subscription---------------Si el cliente accede a la campania o no.\n",
    "\n"
   ]
  },
  {
   "cell_type": "code",
   "execution_count": 1,
   "id": "fff4badd",
   "metadata": {},
   "outputs": [],
   "source": [
    "# Importo librerías\n",
    "import pandas as pd\n",
    "import numpy as np\n",
    "import seaborn as sns\n",
    "import matplotlib.pyplot as plt"
   ]
  },
  {
   "cell_type": "code",
   "execution_count": 2,
   "id": "6f6a0c19",
   "metadata": {},
   "outputs": [],
   "source": [
    "## Importo librerías de Aprendizaje automático\n",
    "from sklearn import preprocessing\n",
    "from sklearn import svm, linear_model\n",
    "from sklearn.model_selection import train_test_split, cross_val_score\n",
    "from sklearn.metrics import r2_score, mean_squared_error, accuracy_score\n",
    "from sklearn.utils import shuffle\n",
    "from sklearn.preprocessing import StandardScaler\n",
    "from sklearn import preprocessing\n",
    "from sklearn.preprocessing import LabelEncoder\n",
    "from sklearn.linear_model import LinearRegression\n",
    "from sklearn.svm import SVC, SVR, LinearSVR\n",
    "from sklearn.metrics import mean_squared_error, make_scorer\n",
    "from sklearn.model_selection import cross_val_score\n",
    "from sklearn.model_selection import GridSearchCV\n",
    "from sklearn import metrics\n",
    "from sklearn.metrics import roc_curve, auc\n",
    "from sklearn.metrics import confusion_matrix"
   ]
  },
  {
   "cell_type": "code",
   "execution_count": 3,
   "id": "d463465d",
   "metadata": {},
   "outputs": [],
   "source": [
    "#Importamos librerias de Feature Selection\n",
    "from sklearn.feature_selection import RFECV\n",
    "from sklearn import linear_model\n",
    "from sklearn.linear_model import LassoCV, LassoLarsCV, LassoLarsIC\n",
    "from sklearn.linear_model import Lasso\n",
    "from sklearn.linear_model import lasso_path\n",
    "from sklearn.feature_selection import VarianceThreshold"
   ]
  },
  {
   "cell_type": "code",
   "execution_count": 4,
   "id": "548a7290",
   "metadata": {},
   "outputs": [],
   "source": [
    "# Importamos librerias de PCA\n",
    "from sklearn.decomposition import PCA\n",
    "from sklearn.preprocessing import StandardScaler\n",
    "from mpl_toolkits.mplot3d import Axes3D"
   ]
  },
  {
   "cell_type": "code",
   "execution_count": 77,
   "id": "60edc37c",
   "metadata": {},
   "outputs": [],
   "source": [
    "# importamos librearias de Logistic Regression\n",
    "from sklearn.linear_model import LogisticRegression\n",
    "from sklearn.metrics import r2_score,confusion_matrix, mean_squared_error,accuracy_score, f1_score,classification_report"
   ]
  },
  {
   "cell_type": "code",
   "execution_count": 6,
   "id": "c33d1611",
   "metadata": {},
   "outputs": [
    {
     "data": {
      "text/html": [
       "<div>\n",
       "<style scoped>\n",
       "    .dataframe tbody tr th:only-of-type {\n",
       "        vertical-align: middle;\n",
       "    }\n",
       "\n",
       "    .dataframe tbody tr th {\n",
       "        vertical-align: top;\n",
       "    }\n",
       "\n",
       "    .dataframe thead th {\n",
       "        text-align: right;\n",
       "    }\n",
       "</style>\n",
       "<table border=\"1\" class=\"dataframe\">\n",
       "  <thead>\n",
       "    <tr style=\"text-align: right;\">\n",
       "      <th></th>\n",
       "      <th>Unnamed: 0</th>\n",
       "      <th>Age</th>\n",
       "      <th>Job</th>\n",
       "      <th>Marital_Status</th>\n",
       "      <th>Education</th>\n",
       "      <th>Credit</th>\n",
       "      <th>Balance(euros)</th>\n",
       "      <th>Housing_Loan</th>\n",
       "      <th>Personal_Loan</th>\n",
       "      <th>Contact</th>\n",
       "      <th>Last_Contact_Day</th>\n",
       "      <th>Last_Contact_Month</th>\n",
       "      <th>Last_Contact_Duration</th>\n",
       "      <th>Campaign</th>\n",
       "      <th>Pdays</th>\n",
       "      <th>Previous</th>\n",
       "      <th>Poutcome</th>\n",
       "      <th>Subscription</th>\n",
       "    </tr>\n",
       "  </thead>\n",
       "  <tbody>\n",
       "    <tr>\n",
       "      <th>0</th>\n",
       "      <td>0</td>\n",
       "      <td>58.000000</td>\n",
       "      <td>management</td>\n",
       "      <td>married</td>\n",
       "      <td>secondary</td>\n",
       "      <td>no</td>\n",
       "      <td>2143.000000</td>\n",
       "      <td>yes</td>\n",
       "      <td>no</td>\n",
       "      <td>unknown</td>\n",
       "      <td>5</td>\n",
       "      <td>may</td>\n",
       "      <td>261.000000</td>\n",
       "      <td>1</td>\n",
       "      <td>-1.0</td>\n",
       "      <td>0</td>\n",
       "      <td>unknown</td>\n",
       "      <td>1</td>\n",
       "    </tr>\n",
       "    <tr>\n",
       "      <th>1</th>\n",
       "      <td>1</td>\n",
       "      <td>44.000000</td>\n",
       "      <td>technician</td>\n",
       "      <td>single</td>\n",
       "      <td>secondary</td>\n",
       "      <td>no</td>\n",
       "      <td>29.000000</td>\n",
       "      <td>yes</td>\n",
       "      <td>no</td>\n",
       "      <td>unknown</td>\n",
       "      <td>5</td>\n",
       "      <td>may</td>\n",
       "      <td>257.765111</td>\n",
       "      <td>1</td>\n",
       "      <td>-1.0</td>\n",
       "      <td>0</td>\n",
       "      <td>unknown</td>\n",
       "      <td>1</td>\n",
       "    </tr>\n",
       "    <tr>\n",
       "      <th>2</th>\n",
       "      <td>2</td>\n",
       "      <td>40.950102</td>\n",
       "      <td>entrepreneur</td>\n",
       "      <td>married</td>\n",
       "      <td>secondary</td>\n",
       "      <td>no</td>\n",
       "      <td>2.000000</td>\n",
       "      <td>yes</td>\n",
       "      <td>yes</td>\n",
       "      <td>unknown</td>\n",
       "      <td>5</td>\n",
       "      <td>may</td>\n",
       "      <td>76.000000</td>\n",
       "      <td>1</td>\n",
       "      <td>-1.0</td>\n",
       "      <td>0</td>\n",
       "      <td>unknown</td>\n",
       "      <td>1</td>\n",
       "    </tr>\n",
       "    <tr>\n",
       "      <th>3</th>\n",
       "      <td>3</td>\n",
       "      <td>47.000000</td>\n",
       "      <td>blue-collar</td>\n",
       "      <td>married</td>\n",
       "      <td>unknown</td>\n",
       "      <td>no</td>\n",
       "      <td>1363.855304</td>\n",
       "      <td>yes</td>\n",
       "      <td>no</td>\n",
       "      <td>unknown</td>\n",
       "      <td>5</td>\n",
       "      <td>may</td>\n",
       "      <td>257.765111</td>\n",
       "      <td>1</td>\n",
       "      <td>-1.0</td>\n",
       "      <td>0</td>\n",
       "      <td>unknown</td>\n",
       "      <td>1</td>\n",
       "    </tr>\n",
       "    <tr>\n",
       "      <th>4</th>\n",
       "      <td>4</td>\n",
       "      <td>40.950102</td>\n",
       "      <td>unknown</td>\n",
       "      <td>single</td>\n",
       "      <td>unknown</td>\n",
       "      <td>no</td>\n",
       "      <td>1.000000</td>\n",
       "      <td>no</td>\n",
       "      <td>no</td>\n",
       "      <td>unknown</td>\n",
       "      <td>5</td>\n",
       "      <td>may</td>\n",
       "      <td>257.765111</td>\n",
       "      <td>1</td>\n",
       "      <td>-1.0</td>\n",
       "      <td>0</td>\n",
       "      <td>unknown</td>\n",
       "      <td>1</td>\n",
       "    </tr>\n",
       "  </tbody>\n",
       "</table>\n",
       "</div>"
      ],
      "text/plain": [
       "   Unnamed: 0        Age           Job Marital_Status  Education Credit  \\\n",
       "0           0  58.000000    management        married  secondary     no   \n",
       "1           1  44.000000    technician         single  secondary     no   \n",
       "2           2  40.950102  entrepreneur        married  secondary     no   \n",
       "3           3  47.000000   blue-collar        married    unknown     no   \n",
       "4           4  40.950102       unknown         single    unknown     no   \n",
       "\n",
       "   Balance(euros) Housing_Loan Personal_Loan  Contact  Last_Contact_Day  \\\n",
       "0     2143.000000          yes            no  unknown                 5   \n",
       "1       29.000000          yes            no  unknown                 5   \n",
       "2        2.000000          yes           yes  unknown                 5   \n",
       "3     1363.855304          yes            no  unknown                 5   \n",
       "4        1.000000           no            no  unknown                 5   \n",
       "\n",
       "  Last_Contact_Month  Last_Contact_Duration  Campaign  Pdays  Previous  \\\n",
       "0                may             261.000000         1   -1.0         0   \n",
       "1                may             257.765111         1   -1.0         0   \n",
       "2                may              76.000000         1   -1.0         0   \n",
       "3                may             257.765111         1   -1.0         0   \n",
       "4                may             257.765111         1   -1.0         0   \n",
       "\n",
       "  Poutcome  Subscription  \n",
       "0  unknown             1  \n",
       "1  unknown             1  \n",
       "2  unknown             1  \n",
       "3  unknown             1  \n",
       "4  unknown             1  "
      ]
     },
     "execution_count": 6,
     "metadata": {},
     "output_type": "execute_result"
    }
   ],
   "source": [
    "# Se importo el dataset con Pandas\n",
    "df = pd.read_csv('bank_subscription_filtrado.csv')\n",
    "# Se muestra las primeras 5 filas del dataset\n",
    "df.head()"
   ]
  },
  {
   "cell_type": "code",
   "execution_count": 7,
   "id": "9f9c6fb0",
   "metadata": {},
   "outputs": [],
   "source": [
    "# Se borra la columna no desea y se guada en el mismo dataset\n",
    "df= df.iloc[:,1:]"
   ]
  },
  {
   "cell_type": "code",
   "execution_count": 8,
   "id": "d694be78",
   "metadata": {},
   "outputs": [
    {
     "data": {
      "text/plain": [
       "(43650, 17)"
      ]
     },
     "execution_count": 8,
     "metadata": {},
     "output_type": "execute_result"
    }
   ],
   "source": [
    "# Se muestra las dimensiones (filas, columnas)\n",
    "df.shape"
   ]
  },
  {
   "cell_type": "code",
   "execution_count": 9,
   "id": "498ef408",
   "metadata": {},
   "outputs": [],
   "source": [
    "#Se reemplazan las variable categoricas\n",
    "df.Credit = df.Credit.replace({\"no\": 0, \"yes\": 1})\n",
    "df.Personal_Loan = df.Personal_Loan.replace({\"no\": 0, \"yes\": 1})\n",
    "df.Subscription = df.Subscription.replace({1: 0, 2: 1})\n",
    "df.Housing_Loan = df.Housing_Loan.replace({\"no\": 0, \"yes\": 1})\n",
    "df.Credit = df.Credit.replace({\"no\": 0, \"yes\": 1})\n",
    "df.Last_Contact_Month = df.Last_Contact_Month.replace({\"may\": 5, \"jun\": 6, \"jul\":7, \"aug\":8, \"oct\":10, \"nov\":11, \"dec\":12, \"jan\":1, \"feb\":2,\n",
    "       \"mar\":3, \"apr\":4, \"sep\":9})"
   ]
  },
  {
   "cell_type": "code",
   "execution_count": 10,
   "id": "8e8c1289",
   "metadata": {
    "scrolled": true
   },
   "outputs": [
    {
     "data": {
      "text/html": [
       "<div>\n",
       "<style scoped>\n",
       "    .dataframe tbody tr th:only-of-type {\n",
       "        vertical-align: middle;\n",
       "    }\n",
       "\n",
       "    .dataframe tbody tr th {\n",
       "        vertical-align: top;\n",
       "    }\n",
       "\n",
       "    .dataframe thead th {\n",
       "        text-align: right;\n",
       "    }\n",
       "</style>\n",
       "<table border=\"1\" class=\"dataframe\">\n",
       "  <thead>\n",
       "    <tr style=\"text-align: right;\">\n",
       "      <th></th>\n",
       "      <th>Age</th>\n",
       "      <th>Job</th>\n",
       "      <th>Marital_Status</th>\n",
       "      <th>Education</th>\n",
       "      <th>Credit</th>\n",
       "      <th>Balance(euros)</th>\n",
       "      <th>Housing_Loan</th>\n",
       "      <th>Personal_Loan</th>\n",
       "      <th>Contact</th>\n",
       "      <th>Last_Contact_Day</th>\n",
       "      <th>Last_Contact_Month</th>\n",
       "      <th>Last_Contact_Duration</th>\n",
       "      <th>Campaign</th>\n",
       "      <th>Pdays</th>\n",
       "      <th>Previous</th>\n",
       "      <th>Poutcome</th>\n",
       "      <th>Subscription</th>\n",
       "    </tr>\n",
       "  </thead>\n",
       "  <tbody>\n",
       "    <tr>\n",
       "      <th>0</th>\n",
       "      <td>58.000000</td>\n",
       "      <td>management</td>\n",
       "      <td>married</td>\n",
       "      <td>secondary</td>\n",
       "      <td>0</td>\n",
       "      <td>2143.000000</td>\n",
       "      <td>1</td>\n",
       "      <td>0</td>\n",
       "      <td>unknown</td>\n",
       "      <td>5</td>\n",
       "      <td>5</td>\n",
       "      <td>261.000000</td>\n",
       "      <td>1</td>\n",
       "      <td>-1.0</td>\n",
       "      <td>0</td>\n",
       "      <td>unknown</td>\n",
       "      <td>0</td>\n",
       "    </tr>\n",
       "    <tr>\n",
       "      <th>1</th>\n",
       "      <td>44.000000</td>\n",
       "      <td>technician</td>\n",
       "      <td>single</td>\n",
       "      <td>secondary</td>\n",
       "      <td>0</td>\n",
       "      <td>29.000000</td>\n",
       "      <td>1</td>\n",
       "      <td>0</td>\n",
       "      <td>unknown</td>\n",
       "      <td>5</td>\n",
       "      <td>5</td>\n",
       "      <td>257.765111</td>\n",
       "      <td>1</td>\n",
       "      <td>-1.0</td>\n",
       "      <td>0</td>\n",
       "      <td>unknown</td>\n",
       "      <td>0</td>\n",
       "    </tr>\n",
       "    <tr>\n",
       "      <th>2</th>\n",
       "      <td>40.950102</td>\n",
       "      <td>entrepreneur</td>\n",
       "      <td>married</td>\n",
       "      <td>secondary</td>\n",
       "      <td>0</td>\n",
       "      <td>2.000000</td>\n",
       "      <td>1</td>\n",
       "      <td>1</td>\n",
       "      <td>unknown</td>\n",
       "      <td>5</td>\n",
       "      <td>5</td>\n",
       "      <td>76.000000</td>\n",
       "      <td>1</td>\n",
       "      <td>-1.0</td>\n",
       "      <td>0</td>\n",
       "      <td>unknown</td>\n",
       "      <td>0</td>\n",
       "    </tr>\n",
       "    <tr>\n",
       "      <th>3</th>\n",
       "      <td>47.000000</td>\n",
       "      <td>blue-collar</td>\n",
       "      <td>married</td>\n",
       "      <td>unknown</td>\n",
       "      <td>0</td>\n",
       "      <td>1363.855304</td>\n",
       "      <td>1</td>\n",
       "      <td>0</td>\n",
       "      <td>unknown</td>\n",
       "      <td>5</td>\n",
       "      <td>5</td>\n",
       "      <td>257.765111</td>\n",
       "      <td>1</td>\n",
       "      <td>-1.0</td>\n",
       "      <td>0</td>\n",
       "      <td>unknown</td>\n",
       "      <td>0</td>\n",
       "    </tr>\n",
       "    <tr>\n",
       "      <th>4</th>\n",
       "      <td>40.950102</td>\n",
       "      <td>unknown</td>\n",
       "      <td>single</td>\n",
       "      <td>unknown</td>\n",
       "      <td>0</td>\n",
       "      <td>1.000000</td>\n",
       "      <td>0</td>\n",
       "      <td>0</td>\n",
       "      <td>unknown</td>\n",
       "      <td>5</td>\n",
       "      <td>5</td>\n",
       "      <td>257.765111</td>\n",
       "      <td>1</td>\n",
       "      <td>-1.0</td>\n",
       "      <td>0</td>\n",
       "      <td>unknown</td>\n",
       "      <td>0</td>\n",
       "    </tr>\n",
       "  </tbody>\n",
       "</table>\n",
       "</div>"
      ],
      "text/plain": [
       "         Age           Job Marital_Status  Education  Credit  Balance(euros)  \\\n",
       "0  58.000000    management        married  secondary       0     2143.000000   \n",
       "1  44.000000    technician         single  secondary       0       29.000000   \n",
       "2  40.950102  entrepreneur        married  secondary       0        2.000000   \n",
       "3  47.000000   blue-collar        married    unknown       0     1363.855304   \n",
       "4  40.950102       unknown         single    unknown       0        1.000000   \n",
       "\n",
       "   Housing_Loan  Personal_Loan  Contact  Last_Contact_Day  Last_Contact_Month  \\\n",
       "0             1              0  unknown                 5                   5   \n",
       "1             1              0  unknown                 5                   5   \n",
       "2             1              1  unknown                 5                   5   \n",
       "3             1              0  unknown                 5                   5   \n",
       "4             0              0  unknown                 5                   5   \n",
       "\n",
       "   Last_Contact_Duration  Campaign  Pdays  Previous Poutcome  Subscription  \n",
       "0             261.000000         1   -1.0         0  unknown             0  \n",
       "1             257.765111         1   -1.0         0  unknown             0  \n",
       "2              76.000000         1   -1.0         0  unknown             0  \n",
       "3             257.765111         1   -1.0         0  unknown             0  \n",
       "4             257.765111         1   -1.0         0  unknown             0  "
      ]
     },
     "execution_count": 10,
     "metadata": {},
     "output_type": "execute_result"
    }
   ],
   "source": [
    "#Se observan los cambios\n",
    "df.head()"
   ]
  },
  {
   "cell_type": "code",
   "execution_count": 130,
   "id": "16b2b350",
   "metadata": {},
   "outputs": [],
   "source": [
    "#Se generan los dummies del resto de las variables categoricas"
   ]
  },
  {
   "cell_type": "code",
   "execution_count": 12,
   "id": "a078373c",
   "metadata": {},
   "outputs": [
    {
     "data": {
      "text/plain": [
       "(43650, 12)"
      ]
     },
     "execution_count": 12,
     "metadata": {},
     "output_type": "execute_result"
    }
   ],
   "source": [
    "dum_job = pd.get_dummies(df.Job)\n",
    "dum_job.shape"
   ]
  },
  {
   "cell_type": "code",
   "execution_count": 14,
   "id": "1a5417ea",
   "metadata": {},
   "outputs": [
    {
     "data": {
      "text/plain": [
       "(43650, 3)"
      ]
     },
     "execution_count": 14,
     "metadata": {},
     "output_type": "execute_result"
    }
   ],
   "source": [
    "dum_sta = pd.get_dummies(df.Marital_Status)\n",
    "dum_sta.shape"
   ]
  },
  {
   "cell_type": "code",
   "execution_count": 16,
   "id": "c3ff99de",
   "metadata": {},
   "outputs": [
    {
     "data": {
      "text/plain": [
       "(43650, 4)"
      ]
     },
     "execution_count": 16,
     "metadata": {},
     "output_type": "execute_result"
    }
   ],
   "source": [
    "dum_edu = pd.get_dummies(df.Education)\n",
    "dum_edu.shape"
   ]
  },
  {
   "cell_type": "code",
   "execution_count": 18,
   "id": "1eb2963e",
   "metadata": {},
   "outputs": [
    {
     "data": {
      "text/plain": [
       "(43650, 3)"
      ]
     },
     "execution_count": 18,
     "metadata": {},
     "output_type": "execute_result"
    }
   ],
   "source": [
    "dum_cont = pd.get_dummies(df.Contact)\n",
    "dum_cont.shape"
   ]
  },
  {
   "cell_type": "code",
   "execution_count": 22,
   "id": "087db363",
   "metadata": {},
   "outputs": [
    {
     "data": {
      "text/plain": [
       "(43650, 4)"
      ]
     },
     "execution_count": 22,
     "metadata": {},
     "output_type": "execute_result"
    }
   ],
   "source": [
    "dum_pout = pd.get_dummies(df.Poutcome)\n",
    "dum_pout.shape"
   ]
  },
  {
   "cell_type": "code",
   "execution_count": 24,
   "id": "7eb69a47",
   "metadata": {},
   "outputs": [
    {
     "data": {
      "text/html": [
       "<div>\n",
       "<style scoped>\n",
       "    .dataframe tbody tr th:only-of-type {\n",
       "        vertical-align: middle;\n",
       "    }\n",
       "\n",
       "    .dataframe tbody tr th {\n",
       "        vertical-align: top;\n",
       "    }\n",
       "\n",
       "    .dataframe thead th {\n",
       "        text-align: right;\n",
       "    }\n",
       "</style>\n",
       "<table border=\"1\" class=\"dataframe\">\n",
       "  <thead>\n",
       "    <tr style=\"text-align: right;\">\n",
       "      <th></th>\n",
       "      <th>admin.</th>\n",
       "      <th>blue-collar</th>\n",
       "      <th>entrepreneur</th>\n",
       "      <th>housemaid</th>\n",
       "      <th>management</th>\n",
       "      <th>retired</th>\n",
       "      <th>self-employed</th>\n",
       "      <th>services</th>\n",
       "      <th>student</th>\n",
       "      <th>technician</th>\n",
       "      <th>...</th>\n",
       "      <th>secondary</th>\n",
       "      <th>tertiary</th>\n",
       "      <th>unknown</th>\n",
       "      <th>cellular</th>\n",
       "      <th>telephone</th>\n",
       "      <th>unknown</th>\n",
       "      <th>failure</th>\n",
       "      <th>other</th>\n",
       "      <th>success</th>\n",
       "      <th>unknown</th>\n",
       "    </tr>\n",
       "  </thead>\n",
       "  <tbody>\n",
       "    <tr>\n",
       "      <th>0</th>\n",
       "      <td>0</td>\n",
       "      <td>0</td>\n",
       "      <td>0</td>\n",
       "      <td>0</td>\n",
       "      <td>1</td>\n",
       "      <td>0</td>\n",
       "      <td>0</td>\n",
       "      <td>0</td>\n",
       "      <td>0</td>\n",
       "      <td>0</td>\n",
       "      <td>...</td>\n",
       "      <td>1</td>\n",
       "      <td>0</td>\n",
       "      <td>0</td>\n",
       "      <td>0</td>\n",
       "      <td>0</td>\n",
       "      <td>1</td>\n",
       "      <td>0</td>\n",
       "      <td>0</td>\n",
       "      <td>0</td>\n",
       "      <td>1</td>\n",
       "    </tr>\n",
       "    <tr>\n",
       "      <th>1</th>\n",
       "      <td>0</td>\n",
       "      <td>0</td>\n",
       "      <td>0</td>\n",
       "      <td>0</td>\n",
       "      <td>0</td>\n",
       "      <td>0</td>\n",
       "      <td>0</td>\n",
       "      <td>0</td>\n",
       "      <td>0</td>\n",
       "      <td>1</td>\n",
       "      <td>...</td>\n",
       "      <td>1</td>\n",
       "      <td>0</td>\n",
       "      <td>0</td>\n",
       "      <td>0</td>\n",
       "      <td>0</td>\n",
       "      <td>1</td>\n",
       "      <td>0</td>\n",
       "      <td>0</td>\n",
       "      <td>0</td>\n",
       "      <td>1</td>\n",
       "    </tr>\n",
       "    <tr>\n",
       "      <th>2</th>\n",
       "      <td>0</td>\n",
       "      <td>0</td>\n",
       "      <td>1</td>\n",
       "      <td>0</td>\n",
       "      <td>0</td>\n",
       "      <td>0</td>\n",
       "      <td>0</td>\n",
       "      <td>0</td>\n",
       "      <td>0</td>\n",
       "      <td>0</td>\n",
       "      <td>...</td>\n",
       "      <td>1</td>\n",
       "      <td>0</td>\n",
       "      <td>0</td>\n",
       "      <td>0</td>\n",
       "      <td>0</td>\n",
       "      <td>1</td>\n",
       "      <td>0</td>\n",
       "      <td>0</td>\n",
       "      <td>0</td>\n",
       "      <td>1</td>\n",
       "    </tr>\n",
       "    <tr>\n",
       "      <th>3</th>\n",
       "      <td>0</td>\n",
       "      <td>1</td>\n",
       "      <td>0</td>\n",
       "      <td>0</td>\n",
       "      <td>0</td>\n",
       "      <td>0</td>\n",
       "      <td>0</td>\n",
       "      <td>0</td>\n",
       "      <td>0</td>\n",
       "      <td>0</td>\n",
       "      <td>...</td>\n",
       "      <td>0</td>\n",
       "      <td>0</td>\n",
       "      <td>1</td>\n",
       "      <td>0</td>\n",
       "      <td>0</td>\n",
       "      <td>1</td>\n",
       "      <td>0</td>\n",
       "      <td>0</td>\n",
       "      <td>0</td>\n",
       "      <td>1</td>\n",
       "    </tr>\n",
       "    <tr>\n",
       "      <th>4</th>\n",
       "      <td>0</td>\n",
       "      <td>0</td>\n",
       "      <td>0</td>\n",
       "      <td>0</td>\n",
       "      <td>0</td>\n",
       "      <td>0</td>\n",
       "      <td>0</td>\n",
       "      <td>0</td>\n",
       "      <td>0</td>\n",
       "      <td>0</td>\n",
       "      <td>...</td>\n",
       "      <td>0</td>\n",
       "      <td>0</td>\n",
       "      <td>1</td>\n",
       "      <td>0</td>\n",
       "      <td>0</td>\n",
       "      <td>1</td>\n",
       "      <td>0</td>\n",
       "      <td>0</td>\n",
       "      <td>0</td>\n",
       "      <td>1</td>\n",
       "    </tr>\n",
       "  </tbody>\n",
       "</table>\n",
       "<p>5 rows × 26 columns</p>\n",
       "</div>"
      ],
      "text/plain": [
       "   admin.  blue-collar  entrepreneur  housemaid  management  retired  \\\n",
       "0       0            0             0          0           1        0   \n",
       "1       0            0             0          0           0        0   \n",
       "2       0            0             1          0           0        0   \n",
       "3       0            1             0          0           0        0   \n",
       "4       0            0             0          0           0        0   \n",
       "\n",
       "   self-employed  services  student  technician  ...  secondary  tertiary  \\\n",
       "0              0         0        0           0  ...          1         0   \n",
       "1              0         0        0           1  ...          1         0   \n",
       "2              0         0        0           0  ...          1         0   \n",
       "3              0         0        0           0  ...          0         0   \n",
       "4              0         0        0           0  ...          0         0   \n",
       "\n",
       "   unknown  cellular  telephone  unknown  failure  other  success  unknown  \n",
       "0        0         0          0        1        0      0        0        1  \n",
       "1        0         0          0        1        0      0        0        1  \n",
       "2        0         0          0        1        0      0        0        1  \n",
       "3        1         0          0        1        0      0        0        1  \n",
       "4        1         0          0        1        0      0        0        1  \n",
       "\n",
       "[5 rows x 26 columns]"
      ]
     },
     "execution_count": 24,
     "metadata": {},
     "output_type": "execute_result"
    }
   ],
   "source": [
    "#Se concatenan todas la variables dummies\n",
    "dummies=pd.concat([dum_job,dum_sta,dum_edu,dum_cont,dum_pout], axis=1)\n",
    "dummies.head()"
   ]
  },
  {
   "cell_type": "code",
   "execution_count": 25,
   "id": "a69419f2",
   "metadata": {},
   "outputs": [],
   "source": [
    "#Se crea un nuevo dataset al cual se le agregan las dummies\n",
    "df2=df\n",
    "df2=df2.join(dummies)"
   ]
  },
  {
   "cell_type": "code",
   "execution_count": 26,
   "id": "649bccf5",
   "metadata": {},
   "outputs": [
    {
     "data": {
      "text/html": [
       "<div>\n",
       "<style scoped>\n",
       "    .dataframe tbody tr th:only-of-type {\n",
       "        vertical-align: middle;\n",
       "    }\n",
       "\n",
       "    .dataframe tbody tr th {\n",
       "        vertical-align: top;\n",
       "    }\n",
       "\n",
       "    .dataframe thead th {\n",
       "        text-align: right;\n",
       "    }\n",
       "</style>\n",
       "<table border=\"1\" class=\"dataframe\">\n",
       "  <thead>\n",
       "    <tr style=\"text-align: right;\">\n",
       "      <th></th>\n",
       "      <th>Age</th>\n",
       "      <th>Credit</th>\n",
       "      <th>Balance(euros)</th>\n",
       "      <th>Housing_Loan</th>\n",
       "      <th>Personal_Loan</th>\n",
       "      <th>Last_Contact_Day</th>\n",
       "      <th>Last_Contact_Month</th>\n",
       "      <th>Last_Contact_Duration</th>\n",
       "      <th>Campaign</th>\n",
       "      <th>Pdays</th>\n",
       "      <th>...</th>\n",
       "      <th>secondary</th>\n",
       "      <th>tertiary</th>\n",
       "      <th>unknown</th>\n",
       "      <th>cellular</th>\n",
       "      <th>telephone</th>\n",
       "      <th>unknown</th>\n",
       "      <th>failure</th>\n",
       "      <th>other</th>\n",
       "      <th>success</th>\n",
       "      <th>unknown</th>\n",
       "    </tr>\n",
       "  </thead>\n",
       "  <tbody>\n",
       "    <tr>\n",
       "      <th>0</th>\n",
       "      <td>58.000000</td>\n",
       "      <td>0</td>\n",
       "      <td>2143.000000</td>\n",
       "      <td>1</td>\n",
       "      <td>0</td>\n",
       "      <td>5</td>\n",
       "      <td>5</td>\n",
       "      <td>261.000000</td>\n",
       "      <td>1</td>\n",
       "      <td>-1.0</td>\n",
       "      <td>...</td>\n",
       "      <td>1</td>\n",
       "      <td>0</td>\n",
       "      <td>0</td>\n",
       "      <td>0</td>\n",
       "      <td>0</td>\n",
       "      <td>1</td>\n",
       "      <td>0</td>\n",
       "      <td>0</td>\n",
       "      <td>0</td>\n",
       "      <td>1</td>\n",
       "    </tr>\n",
       "    <tr>\n",
       "      <th>1</th>\n",
       "      <td>44.000000</td>\n",
       "      <td>0</td>\n",
       "      <td>29.000000</td>\n",
       "      <td>1</td>\n",
       "      <td>0</td>\n",
       "      <td>5</td>\n",
       "      <td>5</td>\n",
       "      <td>257.765111</td>\n",
       "      <td>1</td>\n",
       "      <td>-1.0</td>\n",
       "      <td>...</td>\n",
       "      <td>1</td>\n",
       "      <td>0</td>\n",
       "      <td>0</td>\n",
       "      <td>0</td>\n",
       "      <td>0</td>\n",
       "      <td>1</td>\n",
       "      <td>0</td>\n",
       "      <td>0</td>\n",
       "      <td>0</td>\n",
       "      <td>1</td>\n",
       "    </tr>\n",
       "    <tr>\n",
       "      <th>2</th>\n",
       "      <td>40.950102</td>\n",
       "      <td>0</td>\n",
       "      <td>2.000000</td>\n",
       "      <td>1</td>\n",
       "      <td>1</td>\n",
       "      <td>5</td>\n",
       "      <td>5</td>\n",
       "      <td>76.000000</td>\n",
       "      <td>1</td>\n",
       "      <td>-1.0</td>\n",
       "      <td>...</td>\n",
       "      <td>1</td>\n",
       "      <td>0</td>\n",
       "      <td>0</td>\n",
       "      <td>0</td>\n",
       "      <td>0</td>\n",
       "      <td>1</td>\n",
       "      <td>0</td>\n",
       "      <td>0</td>\n",
       "      <td>0</td>\n",
       "      <td>1</td>\n",
       "    </tr>\n",
       "    <tr>\n",
       "      <th>3</th>\n",
       "      <td>47.000000</td>\n",
       "      <td>0</td>\n",
       "      <td>1363.855304</td>\n",
       "      <td>1</td>\n",
       "      <td>0</td>\n",
       "      <td>5</td>\n",
       "      <td>5</td>\n",
       "      <td>257.765111</td>\n",
       "      <td>1</td>\n",
       "      <td>-1.0</td>\n",
       "      <td>...</td>\n",
       "      <td>0</td>\n",
       "      <td>0</td>\n",
       "      <td>1</td>\n",
       "      <td>0</td>\n",
       "      <td>0</td>\n",
       "      <td>1</td>\n",
       "      <td>0</td>\n",
       "      <td>0</td>\n",
       "      <td>0</td>\n",
       "      <td>1</td>\n",
       "    </tr>\n",
       "    <tr>\n",
       "      <th>4</th>\n",
       "      <td>40.950102</td>\n",
       "      <td>0</td>\n",
       "      <td>1.000000</td>\n",
       "      <td>0</td>\n",
       "      <td>0</td>\n",
       "      <td>5</td>\n",
       "      <td>5</td>\n",
       "      <td>257.765111</td>\n",
       "      <td>1</td>\n",
       "      <td>-1.0</td>\n",
       "      <td>...</td>\n",
       "      <td>0</td>\n",
       "      <td>0</td>\n",
       "      <td>1</td>\n",
       "      <td>0</td>\n",
       "      <td>0</td>\n",
       "      <td>1</td>\n",
       "      <td>0</td>\n",
       "      <td>0</td>\n",
       "      <td>0</td>\n",
       "      <td>1</td>\n",
       "    </tr>\n",
       "  </tbody>\n",
       "</table>\n",
       "<p>5 rows × 37 columns</p>\n",
       "</div>"
      ],
      "text/plain": [
       "         Age  Credit  Balance(euros)  Housing_Loan  Personal_Loan  \\\n",
       "0  58.000000       0     2143.000000             1              0   \n",
       "1  44.000000       0       29.000000             1              0   \n",
       "2  40.950102       0        2.000000             1              1   \n",
       "3  47.000000       0     1363.855304             1              0   \n",
       "4  40.950102       0        1.000000             0              0   \n",
       "\n",
       "   Last_Contact_Day  Last_Contact_Month  Last_Contact_Duration  Campaign  \\\n",
       "0                 5                   5             261.000000         1   \n",
       "1                 5                   5             257.765111         1   \n",
       "2                 5                   5              76.000000         1   \n",
       "3                 5                   5             257.765111         1   \n",
       "4                 5                   5             257.765111         1   \n",
       "\n",
       "   Pdays  ...  secondary  tertiary  unknown  cellular  telephone  unknown  \\\n",
       "0   -1.0  ...          1         0        0         0          0        1   \n",
       "1   -1.0  ...          1         0        0         0          0        1   \n",
       "2   -1.0  ...          1         0        0         0          0        1   \n",
       "3   -1.0  ...          0         0        1         0          0        1   \n",
       "4   -1.0  ...          0         0        1         0          0        1   \n",
       "\n",
       "   failure  other  success  unknown  \n",
       "0        0      0        0        1  \n",
       "1        0      0        0        1  \n",
       "2        0      0        0        1  \n",
       "3        0      0        0        1  \n",
       "4        0      0        0        1  \n",
       "\n",
       "[5 rows x 37 columns]"
      ]
     },
     "execution_count": 26,
     "metadata": {},
     "output_type": "execute_result"
    }
   ],
   "source": [
    "#Se separa la columna de la clases del resto\n",
    "y = np.array(df2[['Subscription']])\n",
    "#Se elimina la varibles categoricas y la variable a predecir\n",
    "x = df2.drop(['Job','Marital_Status','Education','Contact','Poutcome','Subscription'], axis=1)\n",
    "x.head()"
   ]
  },
  {
   "cell_type": "code",
   "execution_count": 27,
   "id": "5b48bc7b",
   "metadata": {},
   "outputs": [
    {
     "name": "stdout",
     "output_type": "stream",
     "text": [
      "(43650, 37)\n",
      "(43650, 1)\n"
     ]
    }
   ],
   "source": [
    "#Se observan las dimensiones\n",
    "print(np.shape(x))\n",
    "print(np.shape(y))"
   ]
  },
  {
   "cell_type": "code",
   "execution_count": 28,
   "id": "d12586c9",
   "metadata": {},
   "outputs": [],
   "source": [
    "#Se separa el dataset en train y test\n",
    "xtrain, xtest, ytrain, ytest = train_test_split(x, y, test_size=0.3, random_state=42)"
   ]
  },
  {
   "cell_type": "code",
   "execution_count": 29,
   "id": "18bd5e86",
   "metadata": {},
   "outputs": [
    {
     "data": {
      "text/plain": [
       "(30555, 1)"
      ]
     },
     "execution_count": 29,
     "metadata": {},
     "output_type": "execute_result"
    }
   ],
   "source": [
    "# Se observan las dimenciones de las nuevas variables\n",
    "ytrain.shape"
   ]
  },
  {
   "cell_type": "code",
   "execution_count": 30,
   "id": "dcd0bd41",
   "metadata": {},
   "outputs": [
    {
     "data": {
      "text/plain": [
       "(30555, 37)"
      ]
     },
     "execution_count": 30,
     "metadata": {},
     "output_type": "execute_result"
    }
   ],
   "source": [
    "xtrain.shape"
   ]
  },
  {
   "cell_type": "code",
   "execution_count": 31,
   "id": "7b35e404",
   "metadata": {},
   "outputs": [
    {
     "data": {
      "text/plain": [
       "(13095, 37)"
      ]
     },
     "execution_count": 31,
     "metadata": {},
     "output_type": "execute_result"
    }
   ],
   "source": [
    "xtest.shape"
   ]
  },
  {
   "cell_type": "code",
   "execution_count": 32,
   "id": "b4a28643",
   "metadata": {},
   "outputs": [],
   "source": [
    "#Se separan las variable binaria de las reales\n",
    "xt=xtrain.iloc[:, [0,2,5,6,7,8,9]]\n",
    "xd1=xtrain.iloc[:,[1,3,4]]\n",
    "xd2=xtrain.iloc[:,10:]"
   ]
  },
  {
   "cell_type": "code",
   "execution_count": 33,
   "id": "1fe18224",
   "metadata": {},
   "outputs": [],
   "source": [
    "#Se entrena el scaler\n",
    "scaler = preprocessing.StandardScaler().fit(xt)"
   ]
  },
  {
   "cell_type": "code",
   "execution_count": 34,
   "id": "c0520470",
   "metadata": {},
   "outputs": [
    {
     "name": "stdout",
     "output_type": "stream",
     "text": [
      "[ 2.17546303e-16 -8.18560115e-17 -9.23205584e-17 -1.50108112e-16\n",
      " -1.82548207e-17 -1.58130931e-17 -4.65090974e-18]\n",
      "[1. 1. 1. 1. 1. 1. 1.]\n"
     ]
    }
   ],
   "source": [
    "#Se escala x train\n",
    "xtrain_scal = scaler.transform(xt) \n",
    "print(xtrain_scal.mean(axis=0))\n",
    "print(xtrain_scal.std(axis=0))"
   ]
  },
  {
   "cell_type": "code",
   "execution_count": 35,
   "id": "8c2811ae",
   "metadata": {},
   "outputs": [
    {
     "data": {
      "text/plain": [
       "array([[ 4.01022286e-01,  4.01385197e+00,  6.23277929e-01, ...,\n",
       "         0.00000000e+00,  0.00000000e+00,  1.00000000e+00],\n",
       "       [ 5.00232634e-01, -4.34683662e-01, -2.18744291e-01, ...,\n",
       "         0.00000000e+00,  0.00000000e+00,  1.00000000e+00],\n",
       "       [ 1.49233611e+00, -1.99599831e-01, -9.40477622e-01, ...,\n",
       "         0.00000000e+00,  0.00000000e+00,  0.00000000e+00],\n",
       "       ...,\n",
       "       [-1.94239800e-01, -6.67263611e-02,  1.10443348e+00, ...,\n",
       "         0.00000000e+00,  0.00000000e+00,  1.00000000e+00],\n",
       "       [ 3.01811938e-01, -4.19692809e-01, -1.06076651e+00, ...,\n",
       "         0.00000000e+00,  0.00000000e+00,  1.00000000e+00],\n",
       "       [-7.69514278e-04, -3.76423756e-01,  8.63855706e-01, ...,\n",
       "         0.00000000e+00,  0.00000000e+00,  1.00000000e+00]])"
      ]
     },
     "execution_count": 35,
     "metadata": {},
     "output_type": "execute_result"
    }
   ],
   "source": [
    "#Se concatena x train escalado con las variables binarias\n",
    "np.concatenate((xtrain_scal,xd1,xd2),axis = 1)"
   ]
  },
  {
   "cell_type": "code",
   "execution_count": 36,
   "id": "6e4b118c",
   "metadata": {},
   "outputs": [],
   "source": [
    "#Se separan las variable binaria de las reales\n",
    "xte=xtest.iloc[:, [0,2,5,6,7,8,9]]\n",
    "xde1=xtest.iloc[:,[1,3,4]]\n",
    "xde2=xtest.iloc[:,10:]"
   ]
  },
  {
   "cell_type": "code",
   "execution_count": 37,
   "id": "9f8525ee",
   "metadata": {},
   "outputs": [],
   "source": [
    "#Se entrena el scaler\n",
    "scaler = preprocessing.StandardScaler().fit(xte)"
   ]
  },
  {
   "cell_type": "code",
   "execution_count": 38,
   "id": "d1a63651",
   "metadata": {},
   "outputs": [
    {
     "name": "stdout",
     "output_type": "stream",
     "text": [
      "[ 5.35009651e-16 -4.84275977e-17 -1.10013394e-16  1.85571299e-16\n",
      "  3.74398234e-17  4.99197646e-17 -8.68169818e-18]\n",
      "[1. 1. 1. 1. 1. 1. 1.]\n"
     ]
    }
   ],
   "source": [
    "#Se escala x test\n",
    "xtest_scal = scaler.transform(xte) \n",
    "print(xtest_scal.mean(axis=0))\n",
    "print(xtest_scal.std(axis=0))"
   ]
  },
  {
   "cell_type": "code",
   "execution_count": 39,
   "id": "8bb54276",
   "metadata": {},
   "outputs": [
    {
     "data": {
      "text/plain": [
       "array([[ 0.40324267, -0.28676637, -1.65203652, ...,  0.        ,\n",
       "         0.        ,  1.        ],\n",
       "       [-0.09238544, -0.46073973,  0.50634103, ...,  0.        ,\n",
       "         0.        ,  1.        ],\n",
       "       [-1.57926979,  0.00929833, -0.21311815, ...,  0.        ,\n",
       "         0.        ,  1.        ],\n",
       "       ...,\n",
       "       [-1.08364167,  0.00929833,  1.10589035, ...,  0.        ,\n",
       "         0.        ,  1.        ],\n",
       "       [ 0.5023683 , -0.4890104 , -0.57284774, ...,  0.        ,\n",
       "         0.        ,  1.        ],\n",
       "       [ 0.99799641, -0.12837813, -1.0524872 , ...,  0.        ,\n",
       "         0.        ,  1.        ]])"
      ]
     },
     "execution_count": 39,
     "metadata": {},
     "output_type": "execute_result"
    }
   ],
   "source": [
    "#Se concatena x test escalado con las variables binarias\n",
    "np.concatenate((xtest_scal,xde1,xde2),axis = 1)"
   ]
  },
  {
   "cell_type": "code",
   "execution_count": 40,
   "id": "52c5a0d8",
   "metadata": {},
   "outputs": [
    {
     "data": {
      "text/plain": [
       "Text(0.5, 1.0, 'Standarized test data')"
      ]
     },
     "execution_count": 40,
     "metadata": {},
     "output_type": "execute_result"
    },
    {
     "data": {
      "image/png": "[encoded data removed]",
      "text/plain": [
       "<Figure size 1152x360 with 6 Axes>"
      ]
     },
     "metadata": {
      "needs_background": "light"
     },
     "output_type": "display_data"
    }
   ],
   "source": [
    "#Se grafica la diferencia entre escalar y no\n",
    "fig, axs = plt.subplots(1, 3, figsize=(16,5))\n",
    "sns.heatmap(x, ax = axs[0])\n",
    "sns.heatmap(xtrain_scal, ax = axs[1])\n",
    "sns.heatmap(xtest_scal, ax = axs[2])\n",
    "axs[0].set_title('Raw data')\n",
    "axs[1].set_title('Standarized train data')\n",
    "axs[2].set_title('Standarized test data')"
   ]
  },
  {
   "cell_type": "code",
   "execution_count": 41,
   "id": "9a9ff573",
   "metadata": {},
   "outputs": [],
   "source": [
    "#Creamos el modelo SVM Regressor \n",
    "svc = SVC(probability=True)"
   ]
  },
  {
   "cell_type": "code",
   "execution_count": 42,
   "id": "9640852e",
   "metadata": {},
   "outputs": [],
   "source": [
    "# Hyperparametros\n",
    "parameters = {'kernel':('linear','rbf'),\n",
    "              'C':[1,5,10],\n",
    "              'gamma':[0.01,0.1,1 ]}"
   ]
  },
  {
   "cell_type": "code",
   "execution_count": 43,
   "id": "9c14f92e",
   "metadata": {},
   "outputs": [],
   "source": [
    "#Se crea el gridsearch\n",
    "clf = GridSearchCV(svc, # modelo\n",
    "                  param_grid = parameters, # Hyperparametros\n",
    "                  refit = True, # refit nos devuelve el modelo con los mejores parametros encontrados \n",
    "                cv = 5, # cv indica la cantidad de folds\n",
    "                  verbose=2)"
   ]
  },
  {
   "cell_type": "code",
   "execution_count": 45,
   "id": "b27332fb",
   "metadata": {
    "scrolled": true
   },
   "outputs": [
    {
     "name": "stdout",
     "output_type": "stream",
     "text": [
      "Fitting 5 folds for each of 18 candidates, totalling 90 fits\n",
      "[CV] END .....................C=1, gamma=0.01, kernel=linear; total time=  23.5s\n",
      "[CV] END .....................C=1, gamma=0.01, kernel=linear; total time=  24.0s\n",
      "[CV] END .....................C=1, gamma=0.01, kernel=linear; total time=  25.8s\n",
      "[CV] END .....................C=1, gamma=0.01, kernel=linear; total time=  25.5s\n",
      "[CV] END .....................C=1, gamma=0.01, kernel=linear; total time=  24.7s\n",
      "[CV] END ........................C=1, gamma=0.01, kernel=rbf; total time=  51.3s\n",
      "[CV] END ........................C=1, gamma=0.01, kernel=rbf; total time=  46.2s\n",
      "[CV] END ........................C=1, gamma=0.01, kernel=rbf; total time=  46.1s\n",
      "[CV] END ........................C=1, gamma=0.01, kernel=rbf; total time=  45.6s\n",
      "[CV] END ........................C=1, gamma=0.01, kernel=rbf; total time=  46.0s\n",
      "[CV] END ......................C=1, gamma=0.1, kernel=linear; total time=  23.7s\n",
      "[CV] END ......................C=1, gamma=0.1, kernel=linear; total time=  23.8s\n",
      "[CV] END ......................C=1, gamma=0.1, kernel=linear; total time=  23.6s\n",
      "[CV] END ......................C=1, gamma=0.1, kernel=linear; total time=  23.4s\n",
      "[CV] END ......................C=1, gamma=0.1, kernel=linear; total time=  23.7s\n",
      "[CV] END .........................C=1, gamma=0.1, kernel=rbf; total time=  44.3s\n",
      "[CV] END .........................C=1, gamma=0.1, kernel=rbf; total time=  43.4s\n",
      "[CV] END .........................C=1, gamma=0.1, kernel=rbf; total time=  42.9s\n",
      "[CV] END .........................C=1, gamma=0.1, kernel=rbf; total time=  43.7s\n",
      "[CV] END .........................C=1, gamma=0.1, kernel=rbf; total time=  43.3s\n",
      "[CV] END ........................C=1, gamma=1, kernel=linear; total time=  24.7s\n",
      "[CV] END ........................C=1, gamma=1, kernel=linear; total time=  24.3s\n",
      "[CV] END ........................C=1, gamma=1, kernel=linear; total time=  23.9s\n",
      "[CV] END ........................C=1, gamma=1, kernel=linear; total time=  23.7s\n",
      "[CV] END ........................C=1, gamma=1, kernel=linear; total time=  23.9s\n",
      "[CV] END ...........................C=1, gamma=1, kernel=rbf; total time= 1.1min\n",
      "[CV] END ...........................C=1, gamma=1, kernel=rbf; total time= 1.1min\n",
      "[CV] END ...........................C=1, gamma=1, kernel=rbf; total time= 1.1min\n",
      "[CV] END ...........................C=1, gamma=1, kernel=rbf; total time= 1.1min\n",
      "[CV] END ...........................C=1, gamma=1, kernel=rbf; total time= 1.1min\n",
      "[CV] END .....................C=5, gamma=0.01, kernel=linear; total time=  34.1s\n",
      "[CV] END .....................C=5, gamma=0.01, kernel=linear; total time=  35.4s\n",
      "[CV] END .....................C=5, gamma=0.01, kernel=linear; total time=  34.0s\n",
      "[CV] END .....................C=5, gamma=0.01, kernel=linear; total time=  33.6s\n",
      "[CV] END .....................C=5, gamma=0.01, kernel=linear; total time=  34.4s\n",
      "[CV] END ........................C=5, gamma=0.01, kernel=rbf; total time=  54.9s\n",
      "[CV] END ........................C=5, gamma=0.01, kernel=rbf; total time=  51.2s\n",
      "[CV] END ........................C=5, gamma=0.01, kernel=rbf; total time=  51.1s\n",
      "[CV] END ........................C=5, gamma=0.01, kernel=rbf; total time=  52.2s\n",
      "[CV] END ........................C=5, gamma=0.01, kernel=rbf; total time=  53.1s\n",
      "[CV] END ......................C=5, gamma=0.1, kernel=linear; total time=  33.2s\n",
      "[CV] END ......................C=5, gamma=0.1, kernel=linear; total time=  34.5s\n",
      "[CV] END ......................C=5, gamma=0.1, kernel=linear; total time=  34.0s\n",
      "[CV] END ......................C=5, gamma=0.1, kernel=linear; total time=  33.2s\n",
      "[CV] END ......................C=5, gamma=0.1, kernel=linear; total time=  34.4s\n",
      "[CV] END .........................C=5, gamma=0.1, kernel=rbf; total time=  46.2s\n",
      "[CV] END .........................C=5, gamma=0.1, kernel=rbf; total time=  45.6s\n",
      "[CV] END .........................C=5, gamma=0.1, kernel=rbf; total time=  46.1s\n",
      "[CV] END .........................C=5, gamma=0.1, kernel=rbf; total time=  45.6s\n",
      "[CV] END .........................C=5, gamma=0.1, kernel=rbf; total time=  48.7s\n",
      "[CV] END ........................C=5, gamma=1, kernel=linear; total time=  34.8s\n",
      "[CV] END ........................C=5, gamma=1, kernel=linear; total time=  34.5s\n",
      "[CV] END ........................C=5, gamma=1, kernel=linear; total time=  33.8s\n",
      "[CV] END ........................C=5, gamma=1, kernel=linear; total time=  33.1s\n",
      "[CV] END ........................C=5, gamma=1, kernel=linear; total time=  34.3s\n",
      "[CV] END ...........................C=5, gamma=1, kernel=rbf; total time= 1.6min\n",
      "[CV] END ...........................C=5, gamma=1, kernel=rbf; total time= 1.7min\n",
      "[CV] END ...........................C=5, gamma=1, kernel=rbf; total time= 1.6min\n",
      "[CV] END ...........................C=5, gamma=1, kernel=rbf; total time= 1.6min\n",
      "[CV] END ...........................C=5, gamma=1, kernel=rbf; total time= 1.7min\n",
      "[CV] END ....................C=10, gamma=0.01, kernel=linear; total time=  45.2s\n",
      "[CV] END ....................C=10, gamma=0.01, kernel=linear; total time= 8.1min\n",
      "[CV] END ....................C=10, gamma=0.01, kernel=linear; total time= 3.9min\n",
      "[CV] END ....................C=10, gamma=0.01, kernel=linear; total time= 2.3min\n",
      "[CV] END ....................C=10, gamma=0.01, kernel=linear; total time= 6.4min\n",
      "[CV] END .......................C=10, gamma=0.01, kernel=rbf; total time=  59.8s\n",
      "[CV] END .......................C=10, gamma=0.01, kernel=rbf; total time=  53.9s\n",
      "[CV] END .......................C=10, gamma=0.01, kernel=rbf; total time=  54.7s\n",
      "[CV] END .......................C=10, gamma=0.01, kernel=rbf; total time=  55.4s\n",
      "[CV] END .......................C=10, gamma=0.01, kernel=rbf; total time=  57.6s\n",
      "[CV] END .....................C=10, gamma=0.1, kernel=linear; total time=  45.5s\n",
      "[CV] END .....................C=10, gamma=0.1, kernel=linear; total time= 7.9min\n",
      "[CV] END .....................C=10, gamma=0.1, kernel=linear; total time= 3.9min\n",
      "[CV] END .....................C=10, gamma=0.1, kernel=linear; total time= 2.3min\n",
      "[CV] END .....................C=10, gamma=0.1, kernel=linear; total time= 6.2min\n",
      "[CV] END ........................C=10, gamma=0.1, kernel=rbf; total time=  50.0s\n",
      "[CV] END ........................C=10, gamma=0.1, kernel=rbf; total time=  49.2s\n",
      "[CV] END ........................C=10, gamma=0.1, kernel=rbf; total time=  48.9s\n",
      "[CV] END ........................C=10, gamma=0.1, kernel=rbf; total time=  48.7s\n",
      "[CV] END ........................C=10, gamma=0.1, kernel=rbf; total time=  49.5s\n",
      "[CV] END .......................C=10, gamma=1, kernel=linear; total time=  45.6s\n",
      "[CV] END .......................C=10, gamma=1, kernel=linear; total time= 7.9min\n",
      "[CV] END .......................C=10, gamma=1, kernel=linear; total time= 3.9min\n",
      "[CV] END .......................C=10, gamma=1, kernel=linear; total time= 2.3min\n",
      "[CV] END .......................C=10, gamma=1, kernel=linear; total time= 6.2min\n",
      "[CV] END ..........................C=10, gamma=1, kernel=rbf; total time= 1.9min\n",
      "[CV] END ..........................C=10, gamma=1, kernel=rbf; total time= 1.8min\n",
      "[CV] END ..........................C=10, gamma=1, kernel=rbf; total time= 1.9min\n",
      "[CV] END ..........................C=10, gamma=1, kernel=rbf; total time= 1.8min\n",
      "[CV] END ..........................C=10, gamma=1, kernel=rbf; total time= 1.9min\n"
     ]
    },
    {
     "data": {
      "text/plain": [
       "GridSearchCV(cv=5, estimator=SVC(probability=True),\n",
       "             param_grid={'C': [1, 5, 10], 'gamma': [0.01, 0.1, 1],\n",
       "                         'kernel': ('linear', 'rbf')},\n",
       "             verbose=2)"
      ]
     },
     "execution_count": 45,
     "metadata": {},
     "output_type": "execute_result"
    }
   ],
   "source": [
    "#Se entrena\n",
    "clf.fit(xtrain_scal, ytrain.ravel())"
   ]
  },
  {
   "cell_type": "code",
   "execution_count": 46,
   "id": "73679404",
   "metadata": {},
   "outputs": [],
   "source": [
    "#Se predice\n",
    "ypred = clf.predict(xtest_scal)"
   ]
  },
  {
   "cell_type": "code",
   "execution_count": 47,
   "id": "a7d97adc",
   "metadata": {},
   "outputs": [
    {
     "data": {
      "text/plain": [
       "0.8908525609556538"
      ]
     },
     "execution_count": 47,
     "metadata": {},
     "output_type": "execute_result"
    }
   ],
   "source": [
    "#Mejor score\n",
    "clf.best_score_"
   ]
  },
  {
   "cell_type": "code",
   "execution_count": 49,
   "id": "c8a77fbb",
   "metadata": {},
   "outputs": [
    {
     "name": "stdout",
     "output_type": "stream",
     "text": [
      "El accuracy es 0.8922489499809088\n"
     ]
    }
   ],
   "source": [
    "#Se muestra el accuracy y la matriz de confusion\n",
    "test_acc = accuracy_score(ytest, ypred)\n",
    "print(\"El accuracy es \" + str(test_acc))"
   ]
  },
  {
   "cell_type": "code",
   "execution_count": 103,
   "id": "85af5899",
   "metadata": {},
   "outputs": [
    {
     "name": "stdout",
     "output_type": "stream",
     "text": [
      "Matriz de confusion\n",
      "[[11324   225]\n",
      " [ 1186   360]]\n"
     ]
    }
   ],
   "source": [
    "print(\"Matriz de confusion\")\n",
    "print(confusion_matrix(ytest,ypred))"
   ]
  },
  {
   "cell_type": "code",
   "execution_count": 88,
   "id": "a2d26bd2",
   "metadata": {},
   "outputs": [
    {
     "name": "stdout",
     "output_type": "stream",
     "text": [
      "El AUC es = 0.8164296186886697\n"
     ]
    }
   ],
   "source": [
    "#Se calcula AUC\n",
    "yproba = clf.predict_proba(xtest_scal)\n",
    "fpr1, tpr1, thresholds = roc_curve(ytest.astype('int'), yproba[:,1], drop_intermediate = False)\n",
    "auc = metrics.auc(fpr1, tpr1)\n",
    "print(\"El AUC es = \" + str(auc))"
   ]
  },
  {
   "cell_type": "code",
   "execution_count": 101,
   "id": "cf772c39",
   "metadata": {},
   "outputs": [
    {
     "data": {
      "image/png": "[encoded data removed]",
      "text/plain": [
       "<Figure size 432x288 with 1 Axes>"
      ]
     },
     "metadata": {
      "needs_background": "light"
     },
     "output_type": "display_data"
    }
   ],
   "source": [
    "#Se grafica la curva ROC\n",
    "plt.plot(fpr1, tpr1, lw=2, alpha=0.7 , label = 'ROC curve', color = 'b')\n",
    "plt.plot([0, 1], [0, 1], linestyle='--', lw=1, color='r',label='Luck', alpha=.8)\n",
    "plt.xlabel('False Positive Rate')\n",
    "plt.ylabel('True Positive Rate')\n",
    "plt.grid(False)\n",
    "plt.legend(loc=\"lower right\")\n",
    "plt.title('Curva ROC con modelo SVM Regressor')\n",
    "plt.show()"
   ]
  },
  {
   "cell_type": "code",
   "execution_count": 123,
   "id": "c118c276",
   "metadata": {},
   "outputs": [
    {
     "name": "stdout",
     "output_type": "stream",
     "text": [
      "Matriz de confusion\n",
      "[[11419   130]\n",
      " [ 1320   226]]\n",
      "Accuracy:  0.8892707140129821\n"
     ]
    }
   ],
   "source": [
    "#Creamos el modelo Logistic Regression y se predice\n",
    "logisr=LogisticRegression(penalty = 'l1',solver = 'liblinear')\n",
    "logisr.fit(xtrain_scal,ytrain.ravel())\n",
    "logispred=logisr.predict(xtest_scal)\n",
    "print(\"Matriz de confusion\")\n",
    "print(confusion_matrix(ytest,logispred))\n",
    "logisscore= accuracy_score(ytest,logispred)\n",
    "print(\"Accuracy: \",logisscore)"
   ]
  },
  {
   "cell_type": "code",
   "execution_count": 84,
   "id": "1a326099",
   "metadata": {},
   "outputs": [
    {
     "name": "stdout",
     "output_type": "stream",
     "text": [
      "El AUC es = 0.8016996481721338\n"
     ]
    }
   ],
   "source": [
    "#Se calcula AUC\n",
    "yproba3 = logisr.predict_proba(xtest_scal)\n",
    "fpr3, tpr3, thresholds = roc_curve(ytest.astype('int'), yproba3[:,1], drop_intermediate = False)\n",
    "auc3 = metrics.auc(fpr3, tpr3)\n",
    "print(\"El AUC es = \" + str(auc3))"
   ]
  },
  {
   "cell_type": "code",
   "execution_count": 121,
   "id": "95b4c1e7",
   "metadata": {},
   "outputs": [
    {
     "data": {
      "image/png": "[encoded data removed]",
      "text/plain": [
       "<Figure size 432x288 with 1 Axes>"
      ]
     },
     "metadata": {
      "needs_background": "light"
     },
     "output_type": "display_data"
    }
   ],
   "source": [
    "#Se grafica la curva ROC\n",
    "plt.plot(fpr3, tpr3, lw=2, alpha=0.7 , label = 'ROC curve', color = 'b')\n",
    "plt.plot([0, 1], [0, 1], linestyle='--', lw=1, color='r',label='Luck', alpha=.8)\n",
    "plt.xlabel('False Positive Rate')\n",
    "plt.ylabel('True Positive Rate')\n",
    "plt.grid(False)\n",
    "plt.legend(loc=\"lower right\")\n",
    "plt.title('Curva ROC con modelo Logistic Regression')\n",
    "plt.show()"
   ]
  },
  {
   "cell_type": "code",
   "execution_count": 50,
   "id": "2b11d254",
   "metadata": {},
   "outputs": [],
   "source": [
    "#Se extrane 7 componentes con PCA\n",
    "n_comps = 7\n",
    "#Se definimos PCA\n",
    "pca = PCA(n_components= n_comps)\n",
    "# Se entrena el modelo\n",
    "xpca = pd.DataFrame(pca.fit_transform(xtrain_scal))\n",
    "xpcate = pd.DataFrame(pca.fit_transform(xtest_scal))\n",
    "#Se obtenienen los auto-valores\n",
    "eigenvalues = pca.explained_variance_ratio_"
   ]
  },
  {
   "cell_type": "code",
   "execution_count": 51,
   "id": "a7039dcf",
   "metadata": {},
   "outputs": [
    {
     "data": {
      "text/plain": [
       "array([1.30742127, 1.16401111, 1.00291054, 0.93232267, 0.9057894 ,\n",
       "       0.874211  , 0.81386861])"
      ]
     },
     "execution_count": 51,
     "metadata": {},
     "output_type": "execute_result"
    }
   ],
   "source": [
    "#Se observa Explainded Variance\n",
    "pca.explained_variance_"
   ]
  },
  {
   "cell_type": "code",
   "execution_count": 52,
   "id": "42a8fcb5",
   "metadata": {},
   "outputs": [
    {
     "data": {
      "text/plain": [
       "array([0.1867602 , 0.1662746 , 0.14326199, 0.13317878, 0.1293886 ,\n",
       "       0.12487775, 0.11625807])"
      ]
     },
     "execution_count": 52,
     "metadata": {},
     "output_type": "execute_result"
    }
   ],
   "source": [
    "pca.explained_variance_ratio_"
   ]
  },
  {
   "cell_type": "code",
   "execution_count": 55,
   "id": "8e96a6b8",
   "metadata": {},
   "outputs": [
    {
     "data": {
      "image/png": "[encoded data removed]",
      "text/plain": [
       "<Figure size 432x288 with 1 Axes>"
      ]
     },
     "metadata": {
      "needs_background": "light"
     },
     "output_type": "display_data"
    }
   ],
   "source": [
    "#Se grafica el top 7\n",
    "components = range(1,n_comps + 1)\n",
    "plt.bar(components,eigenvalues)\n",
    "plt.xticks(components)\n",
    "plt.title('Explainded Variance del top' + str(n_comps) + ' de los componentes principales')\n",
    "plt.xlabel('Top ' +str(n_comps) + ' Componentes principales')\n",
    "plt.ylabel('Explainded Variance')\n",
    "plt.show()"
   ]
  },
  {
   "cell_type": "code",
   "execution_count": 124,
   "id": "04887419",
   "metadata": {},
   "outputs": [
    {
     "data": {
      "image/png": "[encoded data removed]",
      "text/plain": [
       "<Figure size 648x432 with 1 Axes>"
      ]
     },
     "metadata": {
      "needs_background": "light"
     },
     "output_type": "display_data"
    }
   ],
   "source": [
    "#Se grafica lss 2 componentes con mas varianza\n",
    "sns.set_context(\"talk\", font_scale=0.7)\n",
    "plt.figure(figsize=(9,6))\n",
    "plt.scatter(xpca.loc[(ytrain == 0).ravel(),0],xpca.loc[(ytrain == 0).ravel(),1], alpha = 0.3, label = 'No suscripto')\n",
    "plt.scatter(xpca.loc[(ytrain == 1).ravel(),0],xpca.loc[(ytrain == 1).ravel(),1], alpha = 0.3, label = 'Suscripto')\n",
    "plt.xlabel('Componente principal 1 , Explainded Variance = ' + str(np.round(eigenvalues[0],2)))\n",
    "plt.ylabel('Componente principal 2 , Explainded Variance = ' + str(np.round(eigenvalues[1],2)))\n",
    "plt.title('Grafico de los 2 componentes con mas varianza')\n",
    "plt.legend(loc='upper right')\n",
    "plt.show()"
   ]
  },
  {
   "cell_type": "code",
   "execution_count": 109,
   "id": "a66f3fd0",
   "metadata": {},
   "outputs": [
    {
     "data": {
      "image/png": "[encoded data removed]",
      "text/plain": [
       "<Figure size 432x288 with 1 Axes>"
      ]
     },
     "metadata": {
      "needs_background": "light"
     },
     "output_type": "display_data"
    }
   ],
   "source": [
    "#Se visualiza en 3d\n",
    "fig = plt.figure()\n",
    "ax = fig.add_subplot(111, projection='3d')\n",
    "ax.scatter(xpca.iloc[(ytrain == 0).ravel(),0], xpca.iloc[(ytrain == 0).ravel(),1], xpca.iloc[(ytrain == 0).ravel(),2])\n",
    "ax.scatter(xpca.iloc[(ytrain == 1).ravel(),0], xpca.iloc[(ytrain == 1).ravel(),1], xpca.iloc[(ytrain == 1).ravel(),2])\n",
    "ax.set_xlabel('P. Comp. 1')\n",
    "ax.set_ylabel('P. Comp. 2')\n",
    "ax.set_zlabel('P. Comp. 3')\n",
    "plt.show()"
   ]
  },
  {
   "cell_type": "code",
   "execution_count": 59,
   "id": "6c34debe",
   "metadata": {},
   "outputs": [],
   "source": [
    "#Creamos el modelo SVM Regressor con PCA\n",
    "svc1 = SVC(probability=True)"
   ]
  },
  {
   "cell_type": "code",
   "execution_count": 60,
   "id": "7e5c140f",
   "metadata": {},
   "outputs": [],
   "source": [
    "# Hyperparametros\n",
    "parameters1 = {'kernel':('linear','rbf'),\n",
    "              'C':[1,5,10],\n",
    "              'gamma':[0.01,0.1,1 ]}"
   ]
  },
  {
   "cell_type": "code",
   "execution_count": 61,
   "id": "47c59275",
   "metadata": {},
   "outputs": [],
   "source": [
    "#Se crea el gridsearch\n",
    "clf1 = GridSearchCV(svc1, # modelo\n",
    "                  param_grid = parameters1, # Hyperparametros\n",
    "                  refit = True, # refit nos devuelve el modelo con los mejores parametros encontrados \n",
    "                cv = 5, # cv indica la cantidad de folds\n",
    "                  verbose=2)"
   ]
  },
  {
   "cell_type": "code",
   "execution_count": 62,
   "id": "d5eccd37",
   "metadata": {
    "scrolled": true
   },
   "outputs": [
    {
     "name": "stdout",
     "output_type": "stream",
     "text": [
      "Fitting 5 folds for each of 18 candidates, totalling 90 fits\n",
      "[CV] END .....................C=1, gamma=0.01, kernel=linear; total time=  23.0s\n",
      "[CV] END .....................C=1, gamma=0.01, kernel=linear; total time=  24.5s\n",
      "[CV] END .....................C=1, gamma=0.01, kernel=linear; total time=  23.6s\n",
      "[CV] END .....................C=1, gamma=0.01, kernel=linear; total time=  23.1s\n",
      "[CV] END .....................C=1, gamma=0.01, kernel=linear; total time=  23.7s\n",
      "[CV] END ........................C=1, gamma=0.01, kernel=rbf; total time=  47.7s\n",
      "[CV] END ........................C=1, gamma=0.01, kernel=rbf; total time=  45.1s\n",
      "[CV] END ........................C=1, gamma=0.01, kernel=rbf; total time=  44.2s\n",
      "[CV] END ........................C=1, gamma=0.01, kernel=rbf; total time=  45.2s\n",
      "[CV] END ........................C=1, gamma=0.01, kernel=rbf; total time=  44.5s\n",
      "[CV] END ......................C=1, gamma=0.1, kernel=linear; total time=  23.2s\n",
      "[CV] END ......................C=1, gamma=0.1, kernel=linear; total time=  23.7s\n",
      "[CV] END ......................C=1, gamma=0.1, kernel=linear; total time=  23.5s\n",
      "[CV] END ......................C=1, gamma=0.1, kernel=linear; total time=  23.3s\n",
      "[CV] END ......................C=1, gamma=0.1, kernel=linear; total time=  23.6s\n",
      "[CV] END .........................C=1, gamma=0.1, kernel=rbf; total time=  43.9s\n",
      "[CV] END .........................C=1, gamma=0.1, kernel=rbf; total time=  42.9s\n",
      "[CV] END .........................C=1, gamma=0.1, kernel=rbf; total time=  42.9s\n",
      "[CV] END .........................C=1, gamma=0.1, kernel=rbf; total time=  42.6s\n",
      "[CV] END .........................C=1, gamma=0.1, kernel=rbf; total time=  43.6s\n",
      "[CV] END ........................C=1, gamma=1, kernel=linear; total time=  23.3s\n",
      "[CV] END ........................C=1, gamma=1, kernel=linear; total time=  24.1s\n",
      "[CV] END ........................C=1, gamma=1, kernel=linear; total time=  23.8s\n",
      "[CV] END ........................C=1, gamma=1, kernel=linear; total time=  23.6s\n",
      "[CV] END ........................C=1, gamma=1, kernel=linear; total time=  23.7s\n",
      "[CV] END ...........................C=1, gamma=1, kernel=rbf; total time= 1.1min\n",
      "[CV] END ...........................C=1, gamma=1, kernel=rbf; total time= 1.1min\n",
      "[CV] END ...........................C=1, gamma=1, kernel=rbf; total time= 1.2min\n",
      "[CV] END ...........................C=1, gamma=1, kernel=rbf; total time= 1.1min\n",
      "[CV] END ...........................C=1, gamma=1, kernel=rbf; total time= 1.1min\n",
      "[CV] END .....................C=5, gamma=0.01, kernel=linear; total time=  33.9s\n",
      "[CV] END .....................C=5, gamma=0.01, kernel=linear; total time=  35.0s\n",
      "[CV] END .....................C=5, gamma=0.01, kernel=linear; total time=  34.6s\n",
      "[CV] END .....................C=5, gamma=0.01, kernel=linear; total time=  34.2s\n",
      "[CV] END .....................C=5, gamma=0.01, kernel=linear; total time=  34.9s\n",
      "[CV] END ........................C=5, gamma=0.01, kernel=rbf; total time=  57.1s\n",
      "[CV] END ........................C=5, gamma=0.01, kernel=rbf; total time=  52.0s\n",
      "[CV] END ........................C=5, gamma=0.01, kernel=rbf; total time=  52.6s\n",
      "[CV] END ........................C=5, gamma=0.01, kernel=rbf; total time=  51.6s\n",
      "[CV] END ........................C=5, gamma=0.01, kernel=rbf; total time=  55.1s\n",
      "[CV] END ......................C=5, gamma=0.1, kernel=linear; total time=  33.6s\n",
      "[CV] END ......................C=5, gamma=0.1, kernel=linear; total time=  35.0s\n",
      "[CV] END ......................C=5, gamma=0.1, kernel=linear; total time=  34.1s\n",
      "[CV] END ......................C=5, gamma=0.1, kernel=linear; total time=  33.7s\n",
      "[CV] END ......................C=5, gamma=0.1, kernel=linear; total time=  34.9s\n",
      "[CV] END .........................C=5, gamma=0.1, kernel=rbf; total time=  47.2s\n",
      "[CV] END .........................C=5, gamma=0.1, kernel=rbf; total time=  46.3s\n",
      "[CV] END .........................C=5, gamma=0.1, kernel=rbf; total time=  46.7s\n",
      "[CV] END .........................C=5, gamma=0.1, kernel=rbf; total time=  46.7s\n",
      "[CV] END .........................C=5, gamma=0.1, kernel=rbf; total time=  47.3s\n",
      "[CV] END ........................C=5, gamma=1, kernel=linear; total time=  33.8s\n",
      "[CV] END ........................C=5, gamma=1, kernel=linear; total time=  35.4s\n",
      "[CV] END ........................C=5, gamma=1, kernel=linear; total time=  34.6s\n",
      "[CV] END ........................C=5, gamma=1, kernel=linear; total time=  34.0s\n",
      "[CV] END ........................C=5, gamma=1, kernel=linear; total time=  35.1s\n",
      "[CV] END ...........................C=5, gamma=1, kernel=rbf; total time= 1.8min\n",
      "[CV] END ...........................C=5, gamma=1, kernel=rbf; total time= 1.8min\n",
      "[CV] END ...........................C=5, gamma=1, kernel=rbf; total time= 1.7min\n",
      "[CV] END ...........................C=5, gamma=1, kernel=rbf; total time= 1.7min\n",
      "[CV] END ...........................C=5, gamma=1, kernel=rbf; total time= 1.8min\n",
      "[CV] END ....................C=10, gamma=0.01, kernel=linear; total time= 1.8min\n",
      "[CV] END ....................C=10, gamma=0.01, kernel=linear; total time= 9.3min\n",
      "[CV] END ....................C=10, gamma=0.01, kernel=linear; total time= 4.5min\n",
      "[CV] END ....................C=10, gamma=0.01, kernel=linear; total time= 1.6min\n",
      "[CV] END ....................C=10, gamma=0.01, kernel=linear; total time= 3.6min\n",
      "[CV] END .......................C=10, gamma=0.01, kernel=rbf; total time= 1.0min\n",
      "[CV] END .......................C=10, gamma=0.01, kernel=rbf; total time=  54.0s\n",
      "[CV] END .......................C=10, gamma=0.01, kernel=rbf; total time= 1.0min\n",
      "[CV] END .......................C=10, gamma=0.01, kernel=rbf; total time=  57.5s\n",
      "[CV] END .......................C=10, gamma=0.01, kernel=rbf; total time=  59.6s\n",
      "[CV] END .....................C=10, gamma=0.1, kernel=linear; total time=  48.6s\n",
      "[CV] END .....................C=10, gamma=0.1, kernel=linear; total time= 9.5min\n",
      "[CV] END .....................C=10, gamma=0.1, kernel=linear; total time= 4.6min\n",
      "[CV] END .....................C=10, gamma=0.1, kernel=linear; total time= 1.6min\n",
      "[CV] END .....................C=10, gamma=0.1, kernel=linear; total time= 3.7min\n",
      "[CV] END ........................C=10, gamma=0.1, kernel=rbf; total time=  52.6s\n",
      "[CV] END ........................C=10, gamma=0.1, kernel=rbf; total time=  51.4s\n",
      "[CV] END ........................C=10, gamma=0.1, kernel=rbf; total time=  51.2s\n",
      "[CV] END ........................C=10, gamma=0.1, kernel=rbf; total time=  50.1s\n",
      "[CV] END ........................C=10, gamma=0.1, kernel=rbf; total time=  51.3s\n",
      "[CV] END .......................C=10, gamma=1, kernel=linear; total time=  46.7s\n",
      "[CV] END .......................C=10, gamma=1, kernel=linear; total time= 9.5min\n",
      "[CV] END .......................C=10, gamma=1, kernel=linear; total time= 4.6min\n",
      "[CV] END .......................C=10, gamma=1, kernel=linear; total time= 1.6min\n",
      "[CV] END .......................C=10, gamma=1, kernel=linear; total time= 3.7min\n",
      "[CV] END ..........................C=10, gamma=1, kernel=rbf; total time= 1.9min\n",
      "[CV] END ..........................C=10, gamma=1, kernel=rbf; total time= 1.8min\n",
      "[CV] END ..........................C=10, gamma=1, kernel=rbf; total time= 1.9min\n",
      "[CV] END ..........................C=10, gamma=1, kernel=rbf; total time= 2.0min\n",
      "[CV] END ..........................C=10, gamma=1, kernel=rbf; total time= 1.9min\n"
     ]
    },
    {
     "data": {
      "text/plain": [
       "GridSearchCV(cv=5, estimator=SVC(probability=True),\n",
       "             param_grid={'C': [1, 5, 10], 'gamma': [0.01, 0.1, 1],\n",
       "                         'kernel': ('linear', 'rbf')},\n",
       "             verbose=2)"
      ]
     },
     "execution_count": 62,
     "metadata": {},
     "output_type": "execute_result"
    }
   ],
   "source": [
    "#Se entrena\n",
    "clf1.fit(xpca, ytrain.ravel())"
   ]
  },
  {
   "cell_type": "code",
   "execution_count": 63,
   "id": "77ffb0f6",
   "metadata": {},
   "outputs": [],
   "source": [
    "#Se predice\n",
    "ypred1 = clf1.predict(xpcate)"
   ]
  },
  {
   "cell_type": "code",
   "execution_count": 64,
   "id": "5fdbeca5",
   "metadata": {},
   "outputs": [
    {
     "name": "stdout",
     "output_type": "stream",
     "text": [
      "El accuracy es 0.8833142420771287\n"
     ]
    }
   ],
   "source": [
    "#Se muestra el accuracy y la matriz de confusion\n",
    "test_acc = accuracy_score(ytest, ypred1)\n",
    "print(\"El accuracy es \" + str(test_acc))"
   ]
  },
  {
   "cell_type": "code",
   "execution_count": 104,
   "id": "05956077",
   "metadata": {},
   "outputs": [
    {
     "name": "stdout",
     "output_type": "stream",
     "text": [
      "Matriz de confusion\n",
      "[[11333   216]\n",
      " [ 1312   234]]\n"
     ]
    }
   ],
   "source": [
    "print(\"Matriz de confusion\")\n",
    "print(confusion_matrix(ytest,ypred1))"
   ]
  },
  {
   "cell_type": "code",
   "execution_count": 86,
   "id": "0baa9901",
   "metadata": {},
   "outputs": [
    {
     "name": "stdout",
     "output_type": "stream",
     "text": [
      "El AUC es = 0.7526861473420468\n"
     ]
    }
   ],
   "source": [
    "#Se calcula AUC\n",
    "yproba1 = clf1.predict_proba(xpcate)\n",
    "fpr2, tpr2, thresholds = roc_curve(ytest.astype('int'), yproba1[:,1], drop_intermediate = False)\n",
    "auc1 = metrics.auc(fpr2, tpr2)\n",
    "print(\"El AUC es = \" + str(auc1))"
   ]
  },
  {
   "cell_type": "code",
   "execution_count": 131,
   "id": "cef11d58",
   "metadata": {},
   "outputs": [
    {
     "data": {
      "image/png": "[encoded data removed]",
      "text/plain": [
       "<Figure size 432x288 with 1 Axes>"
      ]
     },
     "metadata": {
      "needs_background": "light"
     },
     "output_type": "display_data"
    }
   ],
   "source": [
    "#Se grafica la curva ROC\n",
    "plt.plot(fpr2, tpr2, lw=2, alpha=0.7 , label = 'ROC curve', color = 'b')\n",
    "plt.plot([0, 1], [0, 1], linestyle='--', lw=1, color='r',label='Luck', alpha=.8)\n",
    "plt.xlabel('False Positive Rate')\n",
    "plt.ylabel('True Positive Rate')\n",
    "plt.grid(False)\n",
    "plt.legend(loc=\"lower right\")\n",
    "plt.title('Curva ROC con modelo SVM Regressor con PCA')\n",
    "plt.show()"
   ]
  },
  {
   "cell_type": "code",
   "execution_count": 125,
   "id": "244e6a72",
   "metadata": {},
   "outputs": [
    {
     "name": "stdout",
     "output_type": "stream",
     "text": [
      "Matriz de confusion\n",
      "[[11502    47]\n",
      " [ 1527    19]]\n",
      "Accuracy:  0.8798014509354716\n"
     ]
    }
   ],
   "source": [
    "#Creamos el modelo Logistic Regression y se predice dcon PCA\n",
    "logisr1=LogisticRegression(penalty = 'l1',solver = 'liblinear')\n",
    "logisr1.fit(xpca,ytrain.ravel())\n",
    "logispred1=logisr.predict(xpcate)\n",
    "print(\"Matriz de confusion\")\n",
    "print(confusion_matrix(ytest,logispred1))\n",
    "logisscore1= accuracy_score(ytest,logispred1)\n",
    "print(\"Accuracy: \",logisscore1)"
   ]
  },
  {
   "cell_type": "code",
   "execution_count": 94,
   "id": "37cdd45b",
   "metadata": {},
   "outputs": [
    {
     "name": "stdout",
     "output_type": "stream",
     "text": [
      "El AUC es = 0.7732331120327953\n"
     ]
    }
   ],
   "source": [
    "#Se calcula AUC\n",
    "yproba4 = logisr1.predict_proba(xpcate)\n",
    "fpr4, tpr4, thresholds = roc_curve(ytest.astype('int'), yproba4[:,1], drop_intermediate = False)\n",
    "auc4 = metrics.auc(fpr4, tpr4)\n",
    "print(\"El AUC es = \" + str(auc4))"
   ]
  },
  {
   "cell_type": "code",
   "execution_count": 133,
   "id": "d328fedf",
   "metadata": {},
   "outputs": [
    {
     "data": {
      "image/png": "[encoded data removed]",
      "text/plain": [
       "<Figure size 432x288 with 1 Axes>"
      ]
     },
     "metadata": {
      "needs_background": "light"
     },
     "output_type": "display_data"
    }
   ],
   "source": [
    "#Se grafica la curva ROC\n",
    "plt.plot(fpr4, tpr4, lw=2, alpha=0.7 , label = 'ROC curve', color = 'b')\n",
    "plt.plot([0, 1], [0, 1], linestyle='--', lw=1, color='r',label='Luck', alpha=.8)\n",
    "plt.xlabel('False Positive Rate')\n",
    "plt.ylabel('True Positive Rate')\n",
    "plt.grid(False)\n",
    "plt.legend(loc=\"lower right\")\n",
    "plt.title('Curva ROC con modelo Logistic Regression con PCA')\n",
    "plt.show()"
   ]
  },
  {
   "cell_type": "code",
   "execution_count": 132,
   "id": "341a2cef",
   "metadata": {},
   "outputs": [
    {
     "name": "stdout",
     "output_type": "stream",
     "text": [
      "-----------------------------------------------------\n",
      "-------------------Modelo SVM------------------------\n",
      "-----------------------------------------------------\n",
      "              precision    recall  f1-score   support\n",
      "\n",
      "           0       0.91      0.98      0.94     11549\n",
      "           1       0.62      0.23      0.34      1546\n",
      "\n",
      "    accuracy                           0.89     13095\n",
      "   macro avg       0.76      0.61      0.64     13095\n",
      "weighted avg       0.87      0.89      0.87     13095\n",
      "\n",
      "-----------------------------------------------------\n",
      "------------------Modelo SVM con PCA-----------------\n",
      "-----------------------------------------------------\n",
      "              precision    recall  f1-score   support\n",
      "\n",
      "           0       0.90      0.98      0.94     11549\n",
      "           1       0.52      0.15      0.23      1546\n",
      "\n",
      "    accuracy                           0.88     13095\n",
      "   macro avg       0.71      0.57      0.59     13095\n",
      "weighted avg       0.85      0.88      0.85     13095\n",
      "\n",
      "-----------------------------------------------------\n",
      "-------------Modelo Logistic Regression--------------\n",
      "-----------------------------------------------------\n",
      "              precision    recall  f1-score   support\n",
      "\n",
      "           0       0.90      0.99      0.94     11549\n",
      "           1       0.63      0.15      0.24      1546\n",
      "\n",
      "    accuracy                           0.89     13095\n",
      "   macro avg       0.77      0.57      0.59     13095\n",
      "weighted avg       0.87      0.89      0.86     13095\n",
      "\n",
      "-----------------------------------------------------\n",
      "---------Modelo Logistic regression con PCA----------\n",
      "-----------------------------------------------------\n",
      "              precision    recall  f1-score   support\n",
      "\n",
      "           0       0.88      1.00      0.94     11549\n",
      "           1       0.29      0.01      0.02      1546\n",
      "\n",
      "    accuracy                           0.88     13095\n",
      "   macro avg       0.59      0.50      0.48     13095\n",
      "weighted avg       0.81      0.88      0.83     13095\n",
      "\n"
     ]
    }
   ],
   "source": [
    "#Se compraran los modelos\n",
    "print('-----------------------------------------------------')\n",
    "print('-------------------Modelo SVM------------------------')\n",
    "print('-----------------------------------------------------')\n",
    "print(classification_report(ytest, ypred))\n",
    "print('-----------------------------------------------------')\n",
    "print('------------------Modelo SVM con PCA-----------------')\n",
    "print('-----------------------------------------------------')\n",
    "print(classification_report(ytest, ypred1))\n",
    "print('-----------------------------------------------------')\n",
    "print('-------------Modelo Logistic Regression--------------')\n",
    "print('-----------------------------------------------------')\n",
    "print(classification_report(ytest, logispred))\n",
    "print('-----------------------------------------------------')\n",
    "print('---------Modelo Logistic regression con PCA----------')\n",
    "print('-----------------------------------------------------')\n",
    "print(classification_report(ytest, logispred1))"
   ]
  },
  {
   "cell_type": "code",
   "execution_count": null,
   "id": "2ac1c4af",
   "metadata": {},
   "outputs": [],
   "source": []
  }
 ],
 "metadata": {
  "kernelspec": {
   "display_name": "Python 3 (ipykernel)",
   "language": "python",
   "name": "python3"
  },
  "language_info": {
   "codemirror_mode": {
    "name": "ipython",
    "version": 3
   },
   "file_extension": ".py",
   "mimetype": "text/x-python",
   "name": "python",
   "nbconvert_exporter": "python",
   "pygments_lexer": "ipython3",
   "version": "3.9.12"
  }
 },
 "nbformat": 4,
 "nbformat_minor": 5
}
